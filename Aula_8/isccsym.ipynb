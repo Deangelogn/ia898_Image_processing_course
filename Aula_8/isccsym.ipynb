{
 "cells": [
  {
   "cell_type": "markdown",
   "metadata": {
    "deletable": true,
    "editable": true
   },
   "source": [
    "# isccsym - Is Complex Conjugate Simmetric?"
   ]
  },
  {
   "cell_type": "markdown",
   "metadata": {
    "collapsed": true,
    "deletable": true,
    "editable": true
   },
   "source": [
    "Fazer uma função mais eficiente que a isdftsym abaixo:"
   ]
  },
  {
   "cell_type": "code",
   "execution_count": 5,
   "metadata": {
    "collapsed": true,
    "deletable": true,
    "editable": true
   },
   "outputs": [],
   "source": [
    "%matplotlib inline\n",
    "import numpy as np\n",
    "import matplotlib.pyplot as plt\n",
    "import matplotlib.image as mpimg\n",
    "\n",
    "import sys,os\n",
    "path = os.path.abspath('/etc/jupyterhub/ia898_1s2017/d191122/Aula_6/')\n",
    "if path not in sys.path:\n",
    "    sys.path.append(path)\n",
    "import ptrans as ptr"
   ]
  },
  {
   "cell_type": "code",
   "execution_count": 2,
   "metadata": {
    "collapsed": false,
    "deletable": true,
    "editable": true
   },
   "outputs": [],
   "source": [
    "import numpy as np\n",
    "\n",
    "def isdftsym(F):\n",
    "\n",
    "    if len(F.shape) == 1: F = F[np.newaxis,np.newaxis,:] \n",
    "    if len(F.shape) == 2: F = F[np.newaxis,:,:] \n",
    "\n",
    "    n,m,p = F.shape\n",
    "    x,y,z = np.indices((n,m,p))\n",
    "\n",
    "    Xnovo = np.mod(-1*x,n) \n",
    "    Ynovo = np.mod(-1*y,m)\n",
    "    Znovo = np.mod(-1*z,p)  \n",
    "     \n",
    "    aux = np.conjugate(F[Xnovo,Ynovo,Znovo])\n",
    "    \n",
    "    return (abs(F-aux)<10E-4).all()\n",
    "\n"
   ]
  },
  {
   "cell_type": "code",
   "execution_count": 2,
   "metadata": {
    "collapsed": true,
    "deletable": true,
    "editable": true
   },
   "outputs": [],
   "source": [
    "# implementação oficial\n",
    "def isccsym(F):\n",
    "    H,W = F.shape\n",
    "    \n",
    "    U = (H//2)\n",
    "    V = (W//2)\n",
    "    \n",
    "    pq = F[1:U+1,-V: ]   # primeiro quadrante\n",
    "    sq = F[1:U+1, 1:V+1] # segundo quadrante\n",
    "    tq = np.conjugate(np.flipud(np.fliplr(F[-U:,1:V+1]))) # terceiro quadrante\n",
    "    qq = np.conjugate(np.flipud(np.fliplr(F[-U:,-V: ])))  # quarto quadrante\n",
    "    \n",
    "    # eixo vertical\n",
    "    eV1 = F[0,1:V+1] \n",
    "    if(W%2==0):\n",
    "        eV2 = np.conjugate(np.flipud(F[0,V:]))\n",
    "    else:\n",
    "        eV2 = np.conjugate(np.flipud(F[0,V+1:]))\n",
    "        \n",
    "    #eixo horizontal    \n",
    "    eU1 = F[1:U+1,0]\n",
    "    if(H%2==0):\n",
    "        eU2 = np.conjugate(np.flipud(F[U:,0]))\n",
    "    else:\n",
    "        eU2 = np.conjugate(np.flipud(F[U+1:,0]))\n",
    "        \n",
    "    A1 = ((abs(pq-tq) + abs(sq-qq))<10E-4).all()\n",
    "    A2 = ((abs(eV1-eV2))<10E-4).all()\n",
    "    A3 = ((abs(eU1-eU2))<10E-4).all()\n",
    "    A4 = ((abs(F[0,0]-np.conjugate(F[0,0])))<10E-4).all()\n",
    "    \n",
    "    return (A1 & A2 & A3 & A4)   "
   ]
  },
  {
   "cell_type": "code",
   "execution_count": 4,
   "metadata": {
    "collapsed": true,
    "deletable": true,
    "editable": true
   },
   "outputs": [],
   "source": [
    "#implementação alternativa\n",
    "def isccsymAlt(F):\n",
    "    H,W = F.shape    \n",
    "    U = (H//2)\n",
    "    V = (W//2)    \n",
    "    fq = F[:U+1,:V+1]\n",
    "    Ft = ptr.ptransfat(F,(-1,-1))   \n",
    "    if (H%2==0):\n",
    "        Ux = U-1\n",
    "    else:\n",
    "        Ux = U    \n",
    "    if (W%2==0):\n",
    "        Vy = V-1\n",
    "    else:\n",
    "        Vy = V   \n",
    "    tq = np.conjugate(np.flipud(np.fliplr(Ft[Ux:,Vy:])))   \n",
    "    sq = F[1:U+1,-V:]\n",
    "    qq = np.conjugate(np.flipud(np.fliplr(F[-U:,1:V+1])))\n",
    "    \n",
    "    A1 = ((abs(fq-tq))<10E-4).all()\n",
    "    A2 = ((abs(sq-qq))<10E-4).all()\n",
    "    \n",
    "    return A1 & A2"
   ]
  },
  {
   "cell_type": "code",
   "execution_count": 5,
   "metadata": {
    "collapsed": false,
    "deletable": true,
    "editable": true
   },
   "outputs": [
    {
     "name": "stdout",
     "output_type": "stream",
     "text": [
      "[NbConvertApp] Converting notebook isccsym.ipynb to python\n",
      "[NbConvertApp] Writing 6583 bytes to isccsym.py\n"
     ]
    }
   ],
   "source": [
    "testing = (__name__ == '__main__')\n",
    "\n",
    "if testing:\n",
    "    import sys,os\n",
    "    ! jupyter nbconvert --to 'python' isccsym\n",
    "\n",
    "    path = os.path.abspath('/etc/jupyterhub/ia898_1s2017/d191122/Aula_8/')\n",
    "    if path not in sys.path:\n",
    "        sys.path.append(path)\n",
    "    import isccsym as ccs"
   ]
  },
  {
   "cell_type": "markdown",
   "metadata": {
    "deletable": true,
    "editable": true
   },
   "source": [
    "## Testes para casos numéricos"
   ]
  },
  {
   "cell_type": "code",
   "execution_count": 6,
   "metadata": {
    "collapsed": false,
    "deletable": true,
    "editable": true
   },
   "outputs": [
    {
     "name": "stdout",
     "output_type": "stream",
     "text": [
      "[[0 1]\n",
      " [2 3]]\n",
      "\n",
      "isdftsym:\n",
      " True\n",
      "\n",
      "isccsym:\n",
      " True\n"
     ]
    }
   ],
   "source": [
    "if testing:\n",
    "    \n",
    "    F = np.arange(4).reshape(2,2)\n",
    "    print(F)\n",
    "    \n",
    "    G = ccs.isdftsym(F)\n",
    "    G2 = ccs.isccsym(F)\n",
    "    print(\"\\nisdftsym:\\n\",G)\n",
    "    print(\"\\nisccsym:\\n\",G2)"
   ]
  },
  {
   "cell_type": "code",
   "execution_count": 7,
   "metadata": {
    "collapsed": false,
    "deletable": true,
    "editable": true
   },
   "outputs": [
    {
     "name": "stdout",
     "output_type": "stream",
     "text": [
      "[[ 0.+2.j  0.+1.j]\n",
      " [ 0.+1.j  0.+1.j]]\n",
      "\n",
      "isdftsym:\n",
      " False\n",
      "\n",
      "isccsym:\n",
      " False\n"
     ]
    }
   ],
   "source": [
    "if testing:\n",
    "    F2 = np.array([[2j,1j],\n",
    "                   [1j,1j]])\n",
    "    \n",
    "    print(F2)\n",
    "    G = ccs.isdftsym(F2)\n",
    "    G2 = ccs.isccsym(F2)\n",
    "    print(\"\\nisdftsym:\\n\",G)\n",
    "    print(\"\\nisccsym:\\n\",G2)    "
   ]
  },
  {
   "cell_type": "code",
   "execution_count": 8,
   "metadata": {
    "collapsed": false,
    "deletable": true,
    "editable": true
   },
   "outputs": [
    {
     "name": "stdout",
     "output_type": "stream",
     "text": [
      "[[ 0.+2.j  0.+1.j]\n",
      " [-0.-1.j  0.+0.j]]\n",
      "\n",
      "isdftsym:\n",
      " False\n",
      "\n",
      "isccsym:\n",
      " False\n"
     ]
    }
   ],
   "source": [
    "if testing:\n",
    "    F3 = np.array([[2j,1j],\n",
    "                   [-1j,0]])\n",
    "    \n",
    "    print(F3)\n",
    "    G =ccs.isdftsym(F3)\n",
    "    G2 = ccs.isccsym(F3)\n",
    "    print(\"\\nisdftsym:\\n\",G)\n",
    "    print(\"\\nisccsym:\\n\",G2) "
   ]
  },
  {
   "cell_type": "code",
   "execution_count": 9,
   "metadata": {
    "collapsed": false,
    "deletable": true,
    "editable": true
   },
   "outputs": [
    {
     "name": "stdout",
     "output_type": "stream",
     "text": [
      "[[ 2.+0.j  2.+1.j  2.-1.j]\n",
      " [ 1.-1.j  1.+2.j  2.-2.j]\n",
      " [ 1.+1.j  2.+2.j  1.-2.j]]\n",
      "\n",
      "isdftsym:\n",
      " True\n",
      "\n",
      "isccsym:\n",
      " True\n"
     ]
    }
   ],
   "source": [
    "if testing:\n",
    "    F4 = np.array([[2   ,2+1j,2-1j],\n",
    "                   [1-1j,1+2j,2-2j],\n",
    "                   [1+1j,2+2j,1-2j]])\n",
    "    \n",
    "    print(F4)\n",
    "    G =ccs.isdftsym(F4)\n",
    "    G2 = ccs.isccsym(F4)\n",
    "    print(\"\\nisdftsym:\\n\",G)\n",
    "    print(\"\\nisccsym:\\n\",G2) "
   ]
  },
  {
   "cell_type": "code",
   "execution_count": 10,
   "metadata": {
    "collapsed": false,
    "deletable": true,
    "editable": true
   },
   "outputs": [
    {
     "name": "stdout",
     "output_type": "stream",
     "text": [
      "[[ 2.+0.j  2.+1.j  2.-1.j]\n",
      " [ 1.-1.j  1.+2.j  2.-2.j]\n",
      " [ 1.+1.j  2.+2.j  2.-2.j]\n",
      " [ 1.+1.j  2.+2.j  1.-2.j]]\n",
      "\n",
      "isdftsym:\n",
      " False\n",
      "\n",
      "isccsym:\n",
      " False\n"
     ]
    }
   ],
   "source": [
    "if testing:\n",
    "    F5 = np.array([[2   ,2+1j,2-1j],\n",
    "                   [1-1j,1+2j,2-2j],\n",
    "                   [1+1j,2+2j,2-2j],\n",
    "                   [1+1j,2+2j,1-2j]])\n",
    "    \n",
    "    print(F5)\n",
    "    G = ccs.isdftsym(F5)\n",
    "    G2 = ccs.isccsym(F5)\n",
    "    print(\"\\nisdftsym:\\n\",G)\n",
    "    print(\"\\nisccsym:\\n\",G2) "
   ]
  },
  {
   "cell_type": "markdown",
   "metadata": {
    "deletable": true,
    "editable": true
   },
   "source": [
    "## Testando para verificar se funciona tanto para imagens com dimensões distintas, par e impar"
   ]
  },
  {
   "cell_type": "code",
   "execution_count": 11,
   "metadata": {
    "collapsed": false,
    "deletable": true,
    "editable": true,
    "scrolled": false
   },
   "outputs": [
    {
     "name": "stdout",
     "output_type": "stream",
     "text": [
      "H,W:\n",
      " (256, 256)\n",
      "\n",
      "isdftsym:\n",
      " True\n",
      "\n",
      "isccsym:\n",
      " True\n"
     ]
    }
   ],
   "source": [
    "if testing:\n",
    "    #imagem de dimensões pares\n",
    "    f = mpimg.imread('/home/lotufo/ia898/data/cameraman.tif')\n",
    "    print(\"H,W:\\n\",f.shape)\n",
    "    \n",
    "    F6 = np.fft.fft2(f) \n",
    "    G = ccs.isdftsym(F6)\n",
    "    G2 = ccs.isccsym(F6)\n",
    "    \n",
    "    print(\"\\nisdftsym:\\n\",G)\n",
    "    print(\"\\nisccsym:\\n\",G2) "
   ]
  },
  {
   "cell_type": "code",
   "execution_count": 12,
   "metadata": {
    "collapsed": false,
    "deletable": true,
    "editable": true,
    "scrolled": false
   },
   "outputs": [
    {
     "name": "stdout",
     "output_type": "stream",
     "text": [
      "H,W:\n",
      " (255, 255)\n",
      "\n",
      "isdftsym:\n",
      " True\n",
      "\n",
      "isccsym:\n",
      " True\n"
     ]
    }
   ],
   "source": [
    "if testing:\n",
    "    #image de dimensões impares\n",
    "\n",
    "    f2 = f[1:,1:] \n",
    "    print(\"H,W:\\n\",f2.shape)\n",
    "    \n",
    "    F7 = np.fft.fft2(f2) \n",
    "    G = ccs.isdftsym(F7)\n",
    "    G2 = ccs.isccsym(F7)\n",
    "    \n",
    "    print(\"\\nisdftsym:\\n\",G)\n",
    "    print(\"\\nisccsym:\\n\",G2)"
   ]
  },
  {
   "cell_type": "code",
   "execution_count": 13,
   "metadata": {
    "collapsed": false,
    "deletable": true,
    "editable": true
   },
   "outputs": [
    {
     "name": "stdout",
     "output_type": "stream",
     "text": [
      "H,W:\n",
      " (256, 255)\n",
      "\n",
      "isdftsym:\n",
      " True\n",
      "\n",
      "isccsym:\n",
      " True\n",
      "H,W:\n",
      " (255, 256)\n",
      "\n",
      "isdftsym:\n",
      " True\n",
      "\n",
      "isccsym:\n",
      " True\n"
     ]
    }
   ],
   "source": [
    "if testing:\n",
    "    #dimensões alternadas\n",
    "    f3 = f[:,1:] \n",
    "    print(\"H,W:\\n\",f3.shape)\n",
    "    \n",
    "    F8 = np.fft.fft2(f3) \n",
    "    G =isdftsym(F8)\n",
    "    G2 = isccsym(F8)\n",
    "    \n",
    "    print(\"\\nisdftsym:\\n\",G)\n",
    "    print(\"\\nisccsym:\\n\",G2)\n",
    "    \n",
    "    f4 = f[1:,:] \n",
    "    print(\"H,W:\\n\",f4.shape)\n",
    "    \n",
    "    F9 = np.fft.fft2(f4) \n",
    "    G = ccs.isdftsym(F9)\n",
    "    G2 = ccs.isccsym(F9)\n",
    "    \n",
    "    print(\"\\nisdftsym:\\n\",G)\n",
    "    print(\"\\nisccsym:\\n\",G2)"
   ]
  },
  {
   "cell_type": "markdown",
   "metadata": {
    "deletable": true,
    "editable": true
   },
   "source": [
    "## Performance das implementações"
   ]
  },
  {
   "cell_type": "code",
   "execution_count": 14,
   "metadata": {
    "collapsed": false,
    "deletable": true,
    "editable": true
   },
   "outputs": [
    {
     "name": "stdout",
     "output_type": "stream",
     "text": [
      "Imagem de dimensões: (500, 500)\n",
      "isccsym:\n",
      "\n",
      "100 loops, best of 3: 2.25 ms per loop\n",
      "isdftsym:\n",
      "\n",
      "10 loops, best of 3: 29.7 ms per loop\n",
      "isccsym Alternativo:\n",
      "\n",
      "100 loops, best of 3: 5.2 ms per loop\n",
      "------------------------------------------------------------\n",
      "Imagem de dimensões: (1001, 987)\n",
      "isccsym:\n",
      "\n",
      "100 loops, best of 3: 11.4 ms per loop\n",
      "isdftsym:\n",
      "\n",
      "10 loops, best of 3: 124 ms per loop\n",
      "isccsym Alternativo:\n",
      "\n",
      "100 loops, best of 3: 17.5 ms per loop\n",
      "------------------------------------------------------------\n",
      "Imagem de dimensões: (2511, 1800)\n",
      "isccsym:\n",
      "\n",
      "10 loops, best of 3: 64.4 ms per loop\n",
      "isdftsym:\n",
      "\n",
      "1 loop, best of 3: 551 ms per loop\n",
      "isccsym Alternativo:\n",
      "\n",
      "10 loops, best of 3: 96.4 ms per loop\n",
      "------------------------------------------------------------\n",
      "Imagem de dimensões: (3000, 2777)\n",
      "isccsym:\n",
      "\n",
      "10 loops, best of 3: 114 ms per loop\n",
      "isdftsym:\n",
      "\n",
      "1 loop, best of 3: 1.07 s per loop\n",
      "isccsym Alternativo:\n",
      "\n",
      "10 loops, best of 3: 170 ms per loop\n"
     ]
    }
   ],
   "source": [
    "if testing:\n",
    "    #Perfomance das implementações\n",
    "    \n",
    "    f1 = np.zeros((500,500))\n",
    "    f2 = np.zeros((1001,987))\n",
    "    f3 = np.zeros((2511,1800))\n",
    "    f4 = np.zeros((3000,2777))\n",
    "    \n",
    "    F1 = np.fft.fft2(f1)\n",
    "    F2 = np.fft.fft2(f2)\n",
    "    F3 = np.fft.fft2(f3)\n",
    "    F4 = np.fft.fft2(f4)\n",
    "\n",
    "    \n",
    "    print (\"Imagem de dimensões:\",F1.shape)\n",
    "    print (\"isccsym:\\n\")\n",
    "    %timeit ccs.isccsym(F1)\n",
    "\n",
    "    print(\"isdftsym:\\n\")\n",
    "    %timeit ccs.isdftsym(F1)\n",
    "\n",
    "    print (\"isccsym Alternativo:\\n\")\n",
    "    %timeit ccs.isccsymAlt(F1)\n",
    "    \n",
    "    print (\"------------------------------------------------------------\")\n",
    "    print (\"Imagem de dimensões:\",F2.shape)\n",
    "    print (\"isccsym:\\n\")\n",
    "    %timeit ccs.isccsym(F2)\n",
    "\n",
    "    print(\"isdftsym:\\n\")\n",
    "    %timeit ccs.isdftsym(F2)\n",
    "\n",
    "    print (\"isccsym Alternativo:\\n\")\n",
    "    %timeit ccs.isccsymAlt(F2)\n",
    "    \n",
    "    print (\"------------------------------------------------------------\")\n",
    "    print (\"Imagem de dimensões:\",F3.shape)\n",
    "    print (\"isccsym:\\n\")\n",
    "    %timeit ccs.isccsym(F3)\n",
    "\n",
    "    print(\"isdftsym:\\n\")\n",
    "    %timeit ccs.isdftsym(F3)\n",
    "\n",
    "    print (\"isccsym Alternativo:\\n\")\n",
    "    %timeit ccs.isccsymAlt(F3)\n",
    "    \n",
    "    print (\"------------------------------------------------------------\")\n",
    "    print (\"Imagem de dimensões:\",F4.shape)\n",
    "    print (\"isccsym:\\n\")\n",
    "    %timeit ccs.isccsym(F4)\n",
    "\n",
    "    print(\"isdftsym:\\n\")\n",
    "    %timeit ccs.isdftsym(F4)\n",
    "\n",
    "    print (\"isccsym Alternativo:\\n\")\n",
    "    %timeit ccs.isccsymAlt(F4)\n",
    "    "
   ]
  }
 ],
 "metadata": {
  "kernelspec": {
   "display_name": "Python 3",
   "language": "python",
   "name": "python3"
  },
  "language_info": {
   "codemirror_mode": {
    "name": "ipython",
    "version": 3
   },
   "file_extension": ".py",
   "mimetype": "text/x-python",
   "name": "python",
   "nbconvert_exporter": "python",
   "pygments_lexer": "ipython3",
   "version": "3.6.0"
  }
 },
 "nbformat": 4,
 "nbformat_minor": 2
}
