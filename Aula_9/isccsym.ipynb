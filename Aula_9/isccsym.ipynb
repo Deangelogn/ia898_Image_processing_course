{
 "cells": [
  {
   "cell_type": "markdown",
   "metadata": {
    "deletable": true,
    "editable": true
   },
   "source": [
    "# isccsym - Is Complex Conjugate Simmetric?"
   ]
  },
  {
   "cell_type": "markdown",
   "metadata": {
    "collapsed": true,
    "deletable": true,
    "editable": true
   },
   "source": [
    "Implementar a função isccsym utilizando *slice* e que trate matrizes complexas. \n",
    "Lembrar que basta testar metade do array, pois se F(a) == F(-a), não há necessidade de comparar F(-a) com F(a) novamente.\n",
    "\n",
    "Testar se a função funciona com as imagens das listas ccsym.pkl"
   ]
  },
  {
   "cell_type": "code",
   "execution_count": 2,
   "metadata": {
    "collapsed": true,
    "deletable": true,
    "editable": true
   },
   "outputs": [],
   "source": [
    "import numpy as np\n",
    "\n",
    "def isdftsym(F):\n",
    "\n",
    "    if len(F.shape) == 1: F = F[np.newaxis,np.newaxis,:] \n",
    "    if len(F.shape) == 2: F = F[np.newaxis,:,:] \n",
    "\n",
    "    n,m,p = F.shape\n",
    "    x,y,z = np.indices((n,m,p))\n",
    "\n",
    "    Xnovo = np.mod(-1*x,n) \n",
    "    Ynovo = np.mod(-1*y,m)\n",
    "    Znovo = np.mod(-1*z,p)  \n",
    "\n",
    "    aux = np.conjugate(F[Xnovo,Ynovo,Znovo])\n",
    "\n",
    "    return (abs(F-aux)<10E-4).all()\n",
    "\n"
   ]
  },
  {
   "cell_type": "code",
   "execution_count": 3,
   "metadata": {
    "collapsed": true,
    "deletable": true,
    "editable": true
   },
   "outputs": [],
   "source": [
    "def isccsym(F):\n",
    "    # Faster implementation\n",
    "    H,W = F.shape\n",
    "    \n",
    "    U = (H//2)\n",
    "    V = (W//2)\n",
    "              \n",
    "    A1 = ((abs(F[1:U+1, 1:V+1]-np.conjugate(F[:-U-1:-1,:-V-1:-1])) + abs(F[-U:, 1:V+1]-np.conjugate(F[U:0:-1,:-V-1:-1])))<10E-4).all()\n",
    "    A2 = ((abs(F[0,1:V+1]-np.conjugate(F[0,:-V-1:-1])))<10E-4).all()\n",
    "    A3 = ((abs(F[1:U+1,0]-np.conjugate(F[:-U-1:-1,0])))<10E-4).all()\n",
    "    A4 = ((abs(F[0,0]-np.conjugate(F[0,0])))<10E-4).all()\n",
    "     \n",
    "    return (A1 & A2 & A3 & A4)   "
   ]
  },
  {
   "cell_type": "code",
   "execution_count": 4,
   "metadata": {
    "collapsed": true,
    "deletable": true,
    "editable": true
   },
   "outputs": [],
   "source": [
    "def isccsym2(F):\n",
    "    # Simple implementation\n",
    "    H,W = F.shape\n",
    "            \n",
    "    A1 = ((abs(F[0,0]-np.conjugate(F[0,0])) )<10E-4).all()\n",
    "    A2 = ((abs(F[0,1:]-np.conjugate(F[0,:0:-1])))<10E-4).all()\n",
    "    A3 = ((abs(F[1:,0]-np.conjugate(F[:0:-1,0])  ))<10E-4).all()\n",
    "    A4 = ((abs(F[1:,1:]-np.conjugate(F[:0:-1,:0:-1])))<10E-4).all()\n",
    "    \n",
    "    return (A1 & A2 & A3 & A4)   "
   ]
  },
  {
   "cell_type": "markdown",
   "metadata": {
    "deletable": true,
    "editable": true
   },
   "source": [
    "## Testando com as imagens em ccsym.pkl"
   ]
  },
  {
   "cell_type": "code",
   "execution_count": 5,
   "metadata": {
    "collapsed": false,
    "deletable": true,
    "editable": true
   },
   "outputs": [
    {
     "name": "stdout",
     "output_type": "stream",
     "text": [
      "3 6\n"
     ]
    }
   ],
   "source": [
    "import pickle\n",
    "\n",
    "try:\n",
    "    with open('/home/lotufo/ccsym.pkl','rb') as fhandle: \n",
    "        flist = pickle.load(fhandle)\n",
    "except:\n",
    "    print('arquivo não encontrado')\n",
    "    \n",
    "print(len(flist[0]),len(flist[1]))\n",
    "    "
   ]
  },
  {
   "cell_type": "code",
   "execution_count": 6,
   "metadata": {
    "collapsed": false,
    "deletable": true,
    "editable": true
   },
   "outputs": [
    {
     "name": "stdout",
     "output_type": "stream",
     "text": [
      "isdftsym:  True\n",
      "isccsym:  True\n",
      "isdftsym:  True\n",
      "isccsym:  True\n",
      "isdftsym:  True\n",
      "isccsym:  True\n"
     ]
    }
   ],
   "source": [
    "for img in flist[0]:\n",
    "    print(\"isdftsym: \", isdftsym(img))\n",
    "    print(\"isccsym: \", isccsym(img))"
   ]
  },
  {
   "cell_type": "code",
   "execution_count": 7,
   "metadata": {
    "collapsed": false,
    "deletable": true,
    "editable": true
   },
   "outputs": [
    {
     "name": "stdout",
     "output_type": "stream",
     "text": [
      "isdftsym:  False\n",
      "isccsym:  False\n",
      "isdftsym:  False\n",
      "isccsym:  False\n",
      "isdftsym:  False\n",
      "isccsym:  False\n",
      "isdftsym:  False\n",
      "isccsym:  False\n",
      "isdftsym:  False\n",
      "isccsym:  False\n",
      "isdftsym:  False\n",
      "isccsym:  False\n"
     ]
    }
   ],
   "source": [
    "for img in flist[1]:\n",
    "    print(\"isdftsym: \",isdftsym(img))\n",
    "    print(\"isccsym: \", isccsym(img))"
   ]
  },
  {
   "cell_type": "code",
   "execution_count": 8,
   "metadata": {
    "collapsed": false,
    "deletable": true,
    "editable": true,
    "scrolled": false
   },
   "outputs": [
    {
     "name": "stdout",
     "output_type": "stream",
     "text": [
      "------------------------------\n",
      "\n",
      "isdftsym:\n",
      "\n",
      "10 loops, best of 3: 110 ms per loop\n",
      "\n",
      "------------------------------\n",
      "\n",
      "isccsym (faster): \n",
      "\n",
      "100 loops, best of 3: 10.4 ms per loop\n",
      "\n",
      "------------------------------\n",
      "\n",
      "isccsym2 (simple): \n",
      "\n",
      "10 loops, best of 3: 22.2 ms per loop\n",
      "\n",
      "------------------------------\n",
      "\n"
     ]
    }
   ],
   "source": [
    "# Teste de performance das implementações\n",
    "f4 = np.zeros((1000,1007))\n",
    "F4 = np.fft.fft2(f4)\n",
    "print('------------------------------\\n')\n",
    "print('isdftsym:\\n')\n",
    "%timeit isdftsym(F4)\n",
    "print('\\n------------------------------\\n')\n",
    "print('isccsym (faster): \\n')\n",
    "%timeit isccsym(F4)\n",
    "print('\\n------------------------------\\n')\n",
    "print('isccsym2 (simple): \\n')\n",
    "%timeit isccsym2(F4)\n",
    "print('\\n------------------------------\\n')"
   ]
  }
 ],
 "metadata": {
  "kernelspec": {
   "display_name": "Python 3",
   "language": "python",
   "name": "python3"
  },
  "language_info": {
   "codemirror_mode": {
    "name": "ipython",
    "version": 3
   },
   "file_extension": ".py",
   "mimetype": "text/x-python",
   "name": "python",
   "nbconvert_exporter": "python",
   "pygments_lexer": "ipython3",
   "version": "3.6.0"
  }
 },
 "nbformat": 4,
 "nbformat_minor": 2
}
