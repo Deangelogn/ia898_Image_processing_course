{
 "cells": [
  {
   "cell_type": "markdown",
   "metadata": {
    "deletable": true,
    "editable": true
   },
   "source": [
    "\n",
    "# Implementação da convolução periódica eficiente\n",
    "\n",
    "Esta implementação deve ser melhor que a implementação atual da ia898 e mais eficiente,\n",
    "implementando a convolução no domínio da frequência caso necessário."
   ]
  },
  {
   "cell_type": "code",
   "execution_count": 1,
   "metadata": {
    "collapsed": false,
    "deletable": true,
    "editable": true
   },
   "outputs": [],
   "source": [
    "import numpy as np\n",
    "import matplotlib.image as mpimg\n",
    "import sys, os\n",
    "ia898path = os.path.abspath('/home/lotufo')\n",
    "if ia898path not in sys.path:\n",
    "    sys.path.append(ia898path)\n",
    "import ia898.src as ia"
   ]
  },
  {
   "cell_type": "code",
   "execution_count": 2,
   "metadata": {
    "collapsed": false,
    "deletable": true,
    "editable": true
   },
   "outputs": [],
   "source": [
    "def pconvfft(f,h, th=15):\n",
    "    '''\n",
    "    Periodical convolution.\n",
    "    This is an efficient implementation of the periodical convolution.\n",
    "    This implementation should be comutative, i.e., pconvfft(f,h)==pconvfft(h,f).\n",
    "    This implementation should be fast. If the number of pixels used in the \n",
    "    convolution is larger than 15, it uses the convolution theorem to implement\n",
    "    the convolution.\n",
    "    Parameters:\n",
    "    -----------\n",
    "        f: input image (can be complex, up to 2 dimensions)\n",
    "        h: input kernel (can be complex, up to 2 dimensions)\n",
    "    Outputs:\n",
    "        image of the result of periodical convolution\n",
    "    '''\n",
    "    if h.size < f.size:\n",
    "        nzMin = len(np.nonzero(h)[0])\n",
    "    else:\n",
    "        nzMin = len(np.nonzero(f)[0])\n",
    "    \n",
    "    # convolution in frquency domain\n",
    "    \n",
    "    if nzMin>th:\n",
    "        if f.ndim == 1:\n",
    "            if h.size <= f.size:\n",
    "                hc = np.zeros_like(f)\n",
    "                hc[:h.size] = h\n",
    "                F = np.fft.fft(f)\n",
    "                Hc = np.fft.fft(hc)\n",
    "                return np.fft.ifft(F*Hc).real\n",
    "            else:\n",
    "                hc = np.zeros_like(h)\n",
    "                hc[:f.size] = f\n",
    "                F = np.fft.fft(h)\n",
    "                Hc = np.fft.fft(hc)\n",
    "                return np.fft.ifft(F*Hc).real\n",
    "                \n",
    "        elif f.ndim == 2:\n",
    "            if h.size <= f.size:\n",
    "                hc = np.zeros(f.shape)\n",
    "                hc[:h.shape[0],:h.shape[1]] = h \n",
    "                F = np.fft.fft2(f)\n",
    "                Hc = np.fft.fft2(hc)\n",
    "                return np.fft.ifft2(F*Hc).real\n",
    "            else:\n",
    "                hc = np.zeros(h.shape)\n",
    "                hc[:f.shape[0],:f.shape[1]] = f \n",
    "                F = np.fft.fft2(h)\n",
    "                Hc = np.fft.fft2(hc)\n",
    "                return np.fft.ifft2(F*Hc).real\n",
    "            \n",
    "    # old iimplementation  \n",
    "    h_ind=np.nonzero(h)\n",
    "    f_ind=np.nonzero(f)\n",
    "    if len(h_ind[0])>len(f_ind[0]):\n",
    "        h,    f    = f,    h\n",
    "        h_ind,f_ind= f_ind,h_ind\n",
    "\n",
    "    gs = np.maximum(np.array(f.shape),np.array(h.shape))\n",
    "    if (f.dtype == 'complex') or (h.dtype == 'complex'):\n",
    "        g = np.zeros(gs,dtype='complex')\n",
    "    else:\n",
    "        g = np.zeros(gs)\n",
    "\n",
    "    f1 = g.copy()\n",
    "    f1[f_ind]=f[f_ind]      \n",
    "\n",
    "    if f.ndim == 1:\n",
    "        (W,) = gs\n",
    "        col = np.arange(W)\n",
    "        for cc in h_ind[0]:\n",
    "            g[:] += f1[(col-cc)%W] * h[cc]\n",
    "            \n",
    "    elif f.ndim == 2:\n",
    "        H,W = gs\n",
    "        row,col = np.indices(gs)\n",
    "        for rr,cc in np.transpose(h_ind):\n",
    "            g[:] += f1[(row-rr)%H, (col-cc)%W] * h[rr,cc]\n",
    "            \n",
    "    else:\n",
    "        Z,H,W = gs\n",
    "        d,row,col = np.indices(gs)\n",
    "        for dd,rr,cc in np.transpose(h_ind):\n",
    "            g[:] += f1[(d-dd)%Z, (row-rr)%H, (col-cc)%W] * h[dd,rr,cc]\n",
    "    return g"
   ]
  },
  {
   "cell_type": "code",
   "execution_count": 3,
   "metadata": {
    "collapsed": false,
    "deletable": true,
    "editable": true
   },
   "outputs": [
    {
     "name": "stdout",
     "output_type": "stream",
     "text": [
      "[NbConvertApp] Converting notebook pconvfft.ipynb to python\n",
      "[NbConvertApp] Writing 4295 bytes to pconvfft.py\n"
     ]
    }
   ],
   "source": [
    "testing = (__name__ == '__main__')\n",
    "\n",
    "if testing:\n",
    "    import sys,os\n",
    "    ! jupyter nbconvert --to 'python' pconvfft\n",
    "\n",
    "    path = os.path.abspath('/etc/jupyterhub/ia898_1s2017/d191122/Aula_10/')\n",
    "    if path not in sys.path:\n",
    "        sys.path.append(path)\n",
    "    import pconvfft as conv"
   ]
  },
  {
   "cell_type": "code",
   "execution_count": 6,
   "metadata": {
    "collapsed": false,
    "deletable": true,
    "editable": true,
    "scrolled": false
   },
   "outputs": [
    {
     "name": "stdout",
     "output_type": "stream",
     "text": [
      "f:\n",
      " [0 0 0 1 0 0 0 0 1 0 0 0 1 0 0 0 0 1 0 0 0 1 0 0 0 0 1 0 0 0 1 0 0 0 0 1 0\n",
      " 0 0 1 0 0 0 0 1 0 0 0 1 0 0 0 0 1]\n",
      "h:\n",
      " [1 1 1 1 1 1 1 1 1 1 1 1 1 1 1 1]\n",
      "g e g2 são iguais?:  True\n",
      "10000 loops, best of 3: 54.2 µs per loop\n",
      "10000 loops, best of 3: 135 µs per loop\n"
     ]
    }
   ],
   "source": [
    "if testing:\n",
    "    # Teste 1D conv\n",
    "    f = np.array([0,0,0,1,0,0,0,0,1])\n",
    "    f = np.array([f,f,f,f,f,f])\n",
    "    f = f.ravel()\n",
    "    h = np.array([1,1,1,1,1,1,1,1,1,1,1,1,1,1,1,1])\n",
    "\n",
    "    print('f:\\n',f)\n",
    "    print('h:\\n',h)\n",
    "\n",
    "    g = conv.pconvfft(f,h)\n",
    "    g2 = ia.pconv(f,h)\n",
    "\n",
    "    print('g e g2 são iguais?: ', (abs(g - g2)<10E-4).all())\n",
    "\n",
    "    %timeit conv.pconvfft(h,f)\n",
    "    %timeit ia.pconv(h,f)"
   ]
  },
  {
   "cell_type": "code",
   "execution_count": 5,
   "metadata": {
    "collapsed": false,
    "deletable": true,
    "editable": true
   },
   "outputs": [
    {
     "name": "stdout",
     "output_type": "stream",
     "text": [
      "g e g2 são iguais?:  True\n",
      "100 loops, best of 3: 10.2 ms per loop\n",
      "1 loop, best of 3: 8.71 s per loop\n"
     ]
    }
   ],
   "source": [
    "if testing:\n",
    "    # Teste 2D\n",
    "    f = mpimg.imread('/home/lotufo/ia898/data/gull.pgm')\n",
    "    h = np.zeros(f.shape)\n",
    "    h[::4,::4]=1\n",
    "\n",
    "    g = conv.pconvfft(f,h)\n",
    "    g2 = ia.pconv(f,h)\n",
    "\n",
    "    F = np.fft.fft2(f)\n",
    "\n",
    "    print('g e g2 são iguais?: ', (abs(g - g2)<10E-4).all())\n",
    "\n",
    "    %timeit conv.pconvfft(f,h)\n",
    "    %timeit ia.pconv(f,h)"
   ]
  }
 ],
 "metadata": {
  "kernelspec": {
   "display_name": "Python 3",
   "language": "python",
   "name": "python3"
  },
  "language_info": {
   "codemirror_mode": {
    "name": "ipython",
    "version": 3
   },
   "file_extension": ".py",
   "mimetype": "text/x-python",
   "name": "python",
   "nbconvert_exporter": "python",
   "pygments_lexer": "ipython3",
   "version": "3.6.0"
  }
 },
 "nbformat": 4,
 "nbformat_minor": 2
}
