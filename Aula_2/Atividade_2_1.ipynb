{
 "cells": [
  {
   "cell_type": "markdown",
   "metadata": {
    "deletable": true,
    "editable": true
   },
   "source": [
    "# Meu notebook - atividade 2_1"
   ]
  },
  {
   "cell_type": "code",
   "execution_count": 1,
   "metadata": {
    "collapsed": false,
    "deletable": true,
    "editable": true
   },
   "outputs": [
    {
     "name": "stdout",
     "output_type": "stream",
     "text": [
      "['d191122'] Deângelo Gomes Neves\n"
     ]
    }
   ],
   "source": [
    "import pwd\n",
    "u = !whoami\n",
    "p = pwd.getpwnam(u[0])[4]\n",
    "print(u,p)"
   ]
  },
  {
   "cell_type": "markdown",
   "metadata": {
    "deletable": true,
    "editable": true
   },
   "source": [
    "    # Criação de imagens sintéticas\n",
    "\n",
    "Imagens sintéticas são bastante utilizadas nos testes de algoritmos e na geração de\n",
    "padrões de imagens.\n",
    "\n",
    "Iremos aprender a gerar os valores dos pixels de uma imagem a partir de uma equação matemática\n",
    "de forma muito eficiente, sem a necessidade de se usar explicitamente a varredura dos\n",
    "pixels através do comando `for`.\n",
    "\n",
    "A forma preferencial de criação de imagens sintéticas, quando sua equação é fornecida, é\n",
    "através do uso das funções que geram uma matriz de coordenadas. As duas funções que\n",
    "iremos utilizar neste curso são `indices` e `meshgrid`.\n",
    "\n",
    "Estude o tutorial em:\n",
    "\n",
    "- [Indices e Meshgrid](./master/tutorial_numpy_1_7.ipynb)\n",
    "\n",
    "Ele é fundamental para entender os exemplos a seguir."
   ]
  },
  {
   "cell_type": "code",
   "execution_count": 2,
   "metadata": {
    "collapsed": false,
    "deletable": true,
    "editable": true
   },
   "outputs": [],
   "source": [
    "import numpy as np\n",
    "import sys,os\n",
    "ia898path = os.path.abspath('/etc/jupyterhub/ia898_1s2017/')\n",
    "if ia898path not in sys.path:\n",
    "    sys.path.append(ia898path)\n",
    "import ia898.src as ia"
   ]
  },
  {
   "cell_type": "markdown",
   "metadata": {
    "deletable": true,
    "editable": true
   },
   "source": [
    "## Imagem da função \"sela\"\n",
    "\n",
    "A função \"sela\" bidimensional é uma função dada pelo produto de suas coordenadas `r` e `c`.\n",
    "Observe que, implementando desta forma, é possível fazer com que o código Python/NumPy fique\n",
    "muito próximo à equação matemática, colocada a seguir.\n",
    "\n",
    "Vamos gerar uma função sela, onde os valores para as linhas serão valores inteiros entre\n",
    "-75 e 75 e os valores para as colunas, inteiros no intervalo [-100,100]:\n",
    "\n",
    "$$    f(r,c) = r \\ c $$\n",
    "$$    \\text{para} \\ r  \\in  [-75,75] $$\n",
    "$$                  c  \\in  [-100,100]$$\n",
    "   \n",
    "   \n",
    "No exemplo a seguir é utilizado a função `arange` para gerar os vetores de coordenadas. Para melhorar\n",
    "a visualização foi utilizada a função `ia636:iaisolines iaisolines` que permite visualizar os \n",
    "pixels de mesmo valores (isolinhas) da imagem gerada com uma cor destacada."
   ]
  },
  {
   "cell_type": "code",
   "execution_count": 4,
   "metadata": {
    "collapsed": false,
    "deletable": true,
    "editable": true
   },
   "outputs": [
    {
     "data": {
      "text/html": [
       "<head><style>        table, th, td { border: 0px solid black;        text-align: center;border-collapse: collapse;}</style></head>        <body><table border=\"0\"><td>            <table><tr><td><img src='data:image/png;base64,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'/></td></tr>            <tr><td align='center'>Ponto de sela</td></tr></table></td><tr></tr></table></body>"
      ],
      "text/plain": [
       "<IPython.core.display.HTML object>"
      ]
     },
     "metadata": {},
     "output_type": "display_data"
    }
   ],
   "source": [
    "r,c = np.meshgrid(np.arange(-75,75), np.arange(-100,100), indexing='ij')\n",
    "f = r * c\n",
    "fn = ia.normalize(f)\n",
    "ia.adshow(fn, 'Ponto de sela')\n",
    "#ia.adshow(ia.iaisolines(fn,9), 'Ponto de sela com isolinhas')"
   ]
  },
  {
   "cell_type": "markdown",
   "metadata": {
    "deletable": true,
    "editable": true
   },
   "source": [
    "## Outras images criadas com matrizes de índices\n",
    "\n",
    "Implemente alguma das seguintes funções da toolbox `ia636:MainPage` que também foram feitas desta forma:\n",
    "\n",
    "- [ia636:iacos](http://adessowiki.fee.unicamp.br/adesso-1/wiki/ia636/iacos/view/) - Cossenóide\n",
    "- [ia636:iacircle](http://adessowiki.fee.unicamp.br/adesso-1/wiki/ia636/iacircle/view/) - Círculo\n",
    "- [ia636:iarectangle](http://adessowiki.fee.unicamp.br/adesso-1/wiki/ia636/iarectangle/view/) - Retângulo\n",
    "- [ia636:ialog](http://adessowiki.fee.unicamp.br/adesso-1/wiki/ia636/ialog/view/) - Laplaciano da gaussiana"
   ]
  },
  {
   "cell_type": "markdown",
   "metadata": {
    "deletable": true,
    "editable": true
   },
   "source": [
    "## Atividades\n",
    "\n",
    "- Faça a seguir um programa qualquer de geração de imagem a partir de uma equação:"
   ]
  },
  {
   "cell_type": "code",
   "execution_count": 155,
   "metadata": {
    "collapsed": false,
    "deletable": true,
    "editable": true
   },
   "outputs": [
    {
     "name": "stdout",
     "output_type": "stream",
     "text": [
      "Imagem de função binária\n"
     ]
    },
    {
     "data": {
      "text/html": [
       "<head><style>        table, th, td { border: 0px solid black;        text-align: center;border-collapse: collapse;}</style></head>        <body><table border=\"0\"><td>            <table><tr><td><img src='data:image/png;base64,iVBORw0KGgoAAAANSUhEUgAAAGQAAABkCAAAAABVicqIAAAAUUlEQVR4nO3YsREAIBACMHT/nXUGLCz+Qs+loGOdtFl1Y9eNh0AgEAgEAoFAIBAIBAKBQCCTkC/pv76kfhTnbAKBQCAQCAQCgUAgEAgEAoEkF9rvAsRYoJqCAAAAAElFTkSuQmCC'/></td></tr>            <tr><td align='center'></td></tr></table></td><tr></tr></table></body>"
      ],
      "text/plain": [
       "<IPython.core.display.HTML object>"
      ]
     },
     "metadata": {},
     "output_type": "display_data"
    },
    {
     "name": "stdout",
     "output_type": "stream",
     "text": [
      "Imagem de função contínua\n"
     ]
    },
    {
     "data": {
      "text/html": [
       "<head><style>        table, th, td { border: 0px solid black;        text-align: center;border-collapse: collapse;}</style></head>        <body><table border=\"0\"><td>            <table><tr><td><img src='data:image/png;base64,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'/></td></tr>            <tr><td align='center'></td></tr></table></td><tr></tr></table></body>"
      ],
      "text/plain": [
       "<IPython.core.display.HTML object>"
      ]
     },
     "metadata": {},
     "output_type": "display_data"
    }
   ],
   "source": [
    "import numpy as np\n",
    "W = 100\n",
    "H = 100\n",
    "r,c = np.indices( (H,W))\n",
    "# implemente aqui a equação da sua função bidimensional \n",
    "\n",
    "F = ((r-H/2)**2 + (c-W/2)**2) <(r+c - (H+W)/2)**2\n",
    "Fn = ia.normalize(F)\n",
    "print('Imagem de função binária')\n",
    "ia.adshow(Fn)\n",
    "\n",
    "F = np.sin(r*np.pi/(c+1)) * np.cos(c*np.pi/(r+1))\n",
    "Fn = ia.normalize(F)\n",
    "print('Imagem de função contínua')\n",
    "ia.adshow(Fn)\n"
   ]
  },
  {
   "cell_type": "markdown",
   "metadata": {
    "deletable": true,
    "editable": true
   },
   "source": [
    "## Opcional:\n",
    "\n",
    "Uma sugestão de exercício avançado opcional é gerar a função de Gabor, muito utilizada em filtro direcionais. A equação\n",
    "da função de Gabor pode ser vista em [Gabor filter](http://en.wikipedia.org/wiki/Gabor_filter). Implemente a função real.\n",
    "\n",
    "### Disconsidere este enunciado:\n",
    "- As duas próximas atividades, descritas no índice das atividades desta semana envolvem o desenvolvimento de programas \n",
    "que geram uma imagem rampa e uma imagem com um \"x\" desenhado. Estes programas devem ser feitos utilizando a função `indices`. "
   ]
  },
  {
   "cell_type": "code",
   "execution_count": 191,
   "metadata": {
    "collapsed": false,
    "deletable": true,
    "editable": true
   },
   "outputs": [
    {
     "data": {
      "text/html": [
       "<head><style>        table, th, td { border: 0px solid black;        text-align: center;border-collapse: collapse;}</style></head>        <body><table border=\"0\"><td>            <table><tr><td><img src='data:image/png;base64,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'/></td></tr>            <tr><td align='center'></td></tr></table></td><tr></tr></table></body>"
      ],
      "text/plain": [
       "<IPython.core.display.HTML object>"
      ]
     },
     "metadata": {},
     "output_type": "display_data"
    }
   ],
   "source": [
    "#filtro de Gabor\n",
    "import numpy as np\n",
    "W = 100\n",
    "H = 100\n",
    "\n",
    "#parâmetros do filtro\n",
    "sigma = 16\n",
    "theta = np.pi\n",
    "gamma = 1\n",
    "Lambda = 4\n",
    "psi = 1\n",
    "\n",
    "y, x = np.meshgrid(np.arange(-W,W+1), np.arange(-H,H+1))\n",
    "\n",
    "x_theta = x * np.cos(theta) + y * np.sin(theta)\n",
    "y_theta = -x * np.sin(theta) + y * np.cos(theta)\n",
    "\n",
    "g_real = np.exp( -(x_theta**2 + gamma* y_theta**2)/(2*(sigma**2) ) ) * np.cos( (2*np.pi * x_theta / Lambda) + psi ) \n",
    "\n",
    "#g_real = np.exp(-.5 * (x_theta ** 2 / sigma_x ** 2 + y_theta ** 2 / sigma_y ** 2)) * np.cos(2 * np.pi / Lambda * x_theta + psi)\n",
    "\n",
    "gn = ia.normalize(g_real)\n",
    "ia.adshow(gn)"
   ]
  },
  {
   "cell_type": "markdown",
   "metadata": {
    "deletable": true,
    "editable": true
   },
   "source": [
    "## Criação de gaussiana n-dimensional\n",
    "\n",
    "Uma função também escrita com índices matriciais, porém muito mais complexa de entender é a `ia636:iagaussian`. Veja\n",
    "que o código é extremamente curto, porém bastante complexo e ela ainda funciona para qualquer dimensão, desde 1-D, 2-D,\n",
    "3-D, isto é, n-D. Para quem estiver interessado em entender como ela funciona, existe uma demonstração que procura \n",
    "explicar seu funcionamento em \n",
    "\n",
    "- [ia636:iagengauss](http://adessowiki.fee.unicamp.br/adesso-1/wiki/ia636/iagengauss/view/)\n",
    "- [ia636:iagaussian](http://adessowiki.fee.unicamp.br/adesso-1/wiki/ia636/iagaussian/view/)"
   ]
  },
  {
   "cell_type": "code",
   "execution_count": 3,
   "metadata": {
    "collapsed": false,
    "deletable": true,
    "editable": true
   },
   "outputs": [
    {
     "name": "stdout",
     "output_type": "stream",
     "text": [
      "f=\n",
      " [[ 0.0011  0.0018  0.0011  0.0002]\n",
      " [ 0.0131  0.0215  0.0131  0.0029]\n",
      " [ 0.0585  0.0965  0.0585  0.0131]\n",
      " [ 0.0965  0.1592  0.0965  0.0215]\n",
      " [ 0.0585  0.0965  0.0585  0.0131]\n",
      " [ 0.0131  0.0215  0.0131  0.0029]\n",
      " [ 0.0011  0.0018  0.0011  0.0002]\n",
      " [ 0.      0.0001  0.      0.    ]]\n",
      "g=\n",
      " [[  1   2   1   0]\n",
      " [ 20  34  20   4]\n",
      " [ 93 154  93  20]\n",
      " [154 255 154  34]\n",
      " [ 93 154  93  20]\n",
      " [ 20  34  20   4]\n",
      " [  1   2   1   0]\n",
      " [  0   0   0   0]]\n"
     ]
    }
   ],
   "source": [
    "import numpy as np\n",
    "\n",
    "def iagaussian(s, mu, cov):\n",
    "    d = len(s)  # dimension\n",
    "    n = np.prod(s) # n. of samples (pixels)\n",
    "    x = np.indices(s).reshape( (d, n))\n",
    "    xc = x - mu\n",
    "    k = 1. * xc * np.dot(np.linalg.inv(cov), xc)\n",
    "    k = np.sum(k,axis=0) #the sum is only applied to the rows\n",
    "    g = (1./((2 * np.pi)**(d/2.) * np.sqrt(np.linalg.det(cov)))) * np.exp(-1./2 * k)\n",
    "    return g.reshape(s)\n",
    "\n",
    " \n",
    "f = iagaussian((8,4), np.transpose([[3,1]]), [[1,0],[0,1]])\n",
    "print ('f=\\n', np.array2string(f, precision=4, suppress_small=1))\n",
    "g = ia.normalize(f, [0,255]).astype(np.uint8)\n",
    "print ('g=\\n', g)\n"
   ]
  },
  {
   "cell_type": "code",
   "execution_count": 4,
   "metadata": {
    "collapsed": false,
    "deletable": true,
    "editable": true
   },
   "outputs": [
    {
     "data": {
      "image/png": "[encoded data removed]",
      "text/plain": [
       "<matplotlib.figure.Figure at 0x7feca05b3b38>"
      ]
     },
     "metadata": {},
     "output_type": "display_data"
    }
   ],
   "source": [
    "# note that for 1-D case, the tuple has extra ,\n",
    "# and the covariance matrix must be 2-D\n",
    "import matplotlib.pyplot as plt\n",
    "\n",
    "f = iagaussian( (100,), 50, [[10*10]])\n",
    "g = ia.normalize(f, [0,1])\n",
    "\n",
    "plt.plot(g)\n",
    "plt.show()"
   ]
  },
  {
   "cell_type": "code",
   "execution_count": 9,
   "metadata": {
    "collapsed": false,
    "deletable": true,
    "editable": true
   },
   "outputs": [
    {
     "data": {
      "text/html": [
       "<head><style>        table, th, td { border: 0px solid black;        text-align: center;border-collapse: collapse;}</style></head>        <body><table border=\"0\"><td>            <table><tr><td><img src='data:image/png;base64,iVBORw0KGgoAAAANSUhEUgAAADIAAAAyCAAAAAA7VNdtAAACy0lEQVR4nJWW6XobNwxFL5ZJ3MTO+z9nnKYRseUHwJHsuJVKzqJvBkcXQ4IA6QkA4abVXP48+hVUPkKqjfpCBaqbtyqgW+gNUIXpVFQoQhGgCrpCG9j214OaAlB6gAYaldO8UFX7htoE6UGDEG79+ahRi+lnohuZJrrlzXk2APpERKCrSuG0vO1XEPrEmwGuRFZmZZ/9m05KvxBT+9Z+NdG2kdm3JqnV9QszEY9MFbIqt+V0GZaSsgr6zDw6wKnRpt0yIiRGkLKgzyzNDJKVkWPu+wjmjCAiooS+CDOPTFV7NfbuHu6u7hEexBFEAPQbi7xFItLDw93c3c1dxJ2dgygIRPqi0q6BCu1WC5ibm7mamzB7O98qKsLCWyUjYwAzM1sixu06CAgA+qIqwrKRIdzMli1boiIDEPU06IuqijAxqJC1iWXrWLpkPnRCo1CAPh8qKsytkhkebmaHHUvm8RkWVSVV+vVQFZGNRIS72dIl5wfgNq659K/jUBHhdiwjwk31FDjDpxszp37+pIcoMxNQmelhwnxad9yICEvMlOun41BVlnYskn0Pd8YRrq4uIjPOxESkojp+AJUUACpFRISFuW2ZJnQJRKRERPOkwMVJ71rnhUlCBEB7mVMyOl7+SBJnFtw5U8MJQEnOt7i774Vyrsvzv1BVulCV+WbEfJktM3Pz8PCIWWAzM3rJI97Pi9lal7WWmZmNagtWVek/bh/N/lrrsi6Xy6htLjNL//44xpatdZm+WmtD+uNfI9nW2czMPbzd09f/Xi/Llu1vmoHU1zurss3Nt0yGfr+z9re9h0d4RqS+3s8wPsAMtX6/m8ei81hkdDjo60PZcoDMzNQfj+Tkq31WI3cy/xmdXZv05+P1Jae+/Hywil1rn/76v7VyIw9X5ELp5fG6PxsUtYd3F3tLM8jdPcz5GKX+0E7ptAegcXc/9j4r/QbKOYwGBwlf+QAAAABJRU5ErkJggg=='/></td></tr>            <tr><td align='center'></td></tr></table></td><tr></tr></table></body>"
      ],
      "text/plain": [
       "<IPython.core.display.HTML object>"
      ]
     },
     "metadata": {},
     "output_type": "display_data"
    }
   ],
   "source": [
    "f = iagaussian((50,50), np.transpose([[25,10]]), [[10*10,0],[0,20*20]])\n",
    "g = ia.normalize(f, [0,255]).astype(np.uint8)\n",
    "ia.adshow(g)"
   ]
  },
  {
   "cell_type": "code",
   "execution_count": 17,
   "metadata": {
    "collapsed": false
   },
   "outputs": [
    {
     "name": "stdout",
     "output_type": "stream",
     "text": [
      "f=\n",
      " [[[ 0.0024  0.0031  0.0037  0.0039  0.0037]\n",
      "  [ 0.0034  0.0045  0.0054  0.0057  0.0054]\n",
      "  [ 0.0039  0.0051  0.0061  0.0064  0.0061]\n",
      "  [ 0.0034  0.0045  0.0054  0.0057  0.0054]]\n",
      "\n",
      " [[ 0.0039  0.0051  0.0061  0.0064  0.0061]\n",
      "  [ 0.0057  0.0075  0.0088  0.0093  0.0088]\n",
      "  [ 0.0064  0.0085  0.01    0.0106  0.01  ]\n",
      "  [ 0.0057  0.0075  0.0088  0.0093  0.0088]]\n",
      "\n",
      " [[ 0.0024  0.0031  0.0037  0.0039  0.0037]\n",
      "  [ 0.0034  0.0045  0.0054  0.0057  0.0054]\n",
      "  [ 0.0039  0.0051  0.0061  0.0064  0.0061]\n",
      "  [ 0.0034  0.0045  0.0054  0.0057  0.0054]]]\n",
      "g=\n",
      " [[[  0  23  40  47  40]\n",
      "  [ 33  67  92 102  92]\n",
      "  [ 47  86 115 125 115]\n",
      "  [ 33  67  92 102  92]]\n",
      "\n",
      " [[ 47  86 115 125 115]\n",
      "  [102 158 200 216 200]\n",
      "  [125 189 237 254 237]\n",
      "  [102 158 200 216 200]]\n",
      "\n",
      " [[  0  23  40  47  40]\n",
      "  [ 33  67  92 102  92]\n",
      "  [ 47  86 115 125 115]\n",
      "  [ 33  67  92 102  92]]]\n"
     ]
    }
   ],
   "source": [
    "f = iagaussian((3,4,5), np.transpose([[1,2,3]]), [[1,0,0],[0,4,0],[0,0,9]])\n",
    "print ('f=\\n', np.array2string(f, precision=4, suppress_small=1) )\n",
    "g = ia.normalize(f, [0,255]).astype(np.uint8)\n",
    "print ('g=\\n', g)"
   ]
  },
  {
   "cell_type": "markdown",
   "metadata": {
    "deletable": true,
    "editable": true
   },
   "source": [
    "## Questões de autoavaliação (ainda não está pronto)\n",
    "\n",
    "Faça o teste múltipla escolha a seguir para verificar os conhecimentos adquiridos com esta atividade.\n",
    "O teste é para autoestudo e pode ser repetido várias vezes:\n",
    "\n",
    "- Teste de autoestudo - Imagens sintéticas usando indices e meshgrid`\n"
   ]
  }
 ],
 "metadata": {
  "kernelspec": {
   "display_name": "Python 3",
   "language": "python",
   "name": "python3"
  },
  "language_info": {
   "codemirror_mode": {
    "name": "ipython",
    "version": 3
   },
   "file_extension": ".py",
   "mimetype": "text/x-python",
   "name": "python",
   "nbconvert_exporter": "python",
   "pygments_lexer": "ipython3",
   "version": "3.6.0"
  },
  "toc": {
   "colors": {
    "hover_highlight": "#DAA520",
    "running_highlight": "#FF0000",
    "selected_highlight": "#FFD700"
   },
   "moveMenuLeft": true,
   "nav_menu": {
    "height": "84px",
    "width": "252px"
   },
   "navigate_menu": true,
   "number_sections": true,
   "sideBar": true,
   "threshold": 4,
   "toc_cell": false,
   "toc_section_display": "block",
   "toc_window_display": false
  }
 },
 "nbformat": 4,
 "nbformat_minor": 2
}
